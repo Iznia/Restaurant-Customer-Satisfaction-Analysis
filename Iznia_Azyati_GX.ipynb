{
 "cells": [
  {
   "cell_type": "markdown",
   "metadata": {},
   "source": [
    "---\n",
    "# **Restaurant Customer Satisfaction Analysis**\n",
    "\n",
    "Name: Iznia Azyati\n",
    "\n",
    "\n",
    "**Objective:** \n",
    "Notebook ini digunakan untuk validasi data menggunakan Great Expectation.\n",
    "\n",
    "---"
   ]
  },
  {
   "cell_type": "markdown",
   "metadata": {},
   "source": [
    "## **Install Great Expectation Package**"
   ]
  },
  {
   "cell_type": "markdown",
   "metadata": {},
   "source": [
    "Sebelum melakukan validasi data dengan Great Expectation Packages, kita harus install Great Expectation, kemudian membuat data context dan menghubungkannya dengan sumber data. Kemudian kita harus memasukkan file csv kita sebagai aset dan menambahkannya ke sumber data."
   ]
  },
  {
   "cell_type": "code",
   "execution_count": 1,
   "metadata": {},
   "outputs": [],
   "source": [
    "# Install the library\n",
    "\n",
    "!pip install -q great-expectations"
   ]
  },
  {
   "cell_type": "markdown",
   "metadata": {},
   "source": [
    "## **Import Library**"
   ]
  },
  {
   "cell_type": "code",
   "execution_count": 7,
   "metadata": {},
   "outputs": [],
   "source": [
    "from great_expectations.data_context import FileDataContext\n"
   ]
  },
  {
   "cell_type": "markdown",
   "metadata": {},
   "source": [
    "## **Set Up**"
   ]
  },
  {
   "cell_type": "code",
   "execution_count": 8,
   "metadata": {},
   "outputs": [],
   "source": [
    "# Create a data context\n",
    "context = FileDataContext.create(project_root_dir='./')"
   ]
  },
  {
   "cell_type": "code",
   "execution_count": 10,
   "metadata": {},
   "outputs": [],
   "source": [
    "# Define the name of the data source and convert it to lowercase\n",
    "datasource_name = 'csv-restaurant-iznia'\n",
    "\n",
    "# Add a pandas data source with the specified name to the context\n",
    "datasource = context.sources.add_pandas(datasource_name)\n",
    "\n",
    "\n",
    "# Define the name of the dataset asset and convert it to lowercase\n",
    "asset_name = 'Milestone3-Iznia'\n",
    "\n",
    "# Specify the path to the raw CSV file containing the dataset\n",
    "path_to_data = 'P2M3_Iznia_Azyati_data_cleaned.csv'\n",
    "\n",
    "# Add a CSV asset with the specified name and file path to the data source\n",
    "asset = datasource.add_csv_asset(asset_name, filepath_or_buffer=path_to_data)\n",
    "\n",
    "# Build a batch request to load the dataset into memory\n",
    "batch_request = asset.build_batch_request()"
   ]
  },
  {
   "cell_type": "markdown",
   "metadata": {},
   "source": [
    "## **Creating Expectation Suite and Validator**"
   ]
  },
  {
   "cell_type": "markdown",
   "metadata": {},
   "source": [
    "Kemudian kita membuat Expectation Suite yang berfungsi sebagai kumpulan pernyataan yang dapat diverifikasi mengenai data. Rangkaian ini menggabungkan berbagai Ekspektasi ke dalam gambaran data yang komprehensif. Nama Expectation Suite dapat disesuaikan asalkan tetap unik dalam proyek tertentu. Validator digunakan untuk berinteraksi dengan kumpulan data dan menghasilkan Rangkaian Harapan ini. Setiap kali Ekspektasi dievaluasi menggunakan validator.expect_*, Ekspektasi tersebut langsung mengalami validasi terhadap dataset."
   ]
  },
  {
   "cell_type": "code",
   "execution_count": 37,
   "metadata": {},
   "outputs": [
    {
     "data": {
      "application/vnd.jupyter.widget-view+json": {
       "model_id": "8ac383c582534e61944b4e40e5175eaf",
       "version_major": 2,
       "version_minor": 0
      },
      "text/plain": [
       "Calculating Metrics:   0%|          | 0/1 [00:00<?, ?it/s]"
      ]
     },
     "metadata": {},
     "output_type": "display_data"
    },
    {
     "data": {
      "text/html": [
       "<div>\n",
       "<style scoped>\n",
       "    .dataframe tbody tr th:only-of-type {\n",
       "        vertical-align: middle;\n",
       "    }\n",
       "\n",
       "    .dataframe tbody tr th {\n",
       "        vertical-align: top;\n",
       "    }\n",
       "\n",
       "    .dataframe thead th {\n",
       "        text-align: right;\n",
       "    }\n",
       "</style>\n",
       "<table border=\"1\" class=\"dataframe\">\n",
       "  <thead>\n",
       "    <tr style=\"text-align: right;\">\n",
       "      <th></th>\n",
       "      <th>customer_id</th>\n",
       "      <th>age</th>\n",
       "      <th>gender</th>\n",
       "      <th>income</th>\n",
       "      <th>visit_frequency</th>\n",
       "      <th>average_spend</th>\n",
       "      <th>preferred_cuisine</th>\n",
       "      <th>time_of_visit</th>\n",
       "      <th>group_size</th>\n",
       "      <th>dining_occasion</th>\n",
       "      <th>meal_type</th>\n",
       "      <th>online_reservation</th>\n",
       "      <th>delivery_order</th>\n",
       "      <th>loyalty_program_member</th>\n",
       "      <th>wait_time</th>\n",
       "      <th>service_rating</th>\n",
       "      <th>food_rating</th>\n",
       "      <th>ambiance_rating</th>\n",
       "      <th>high_satisfaction</th>\n",
       "    </tr>\n",
       "  </thead>\n",
       "  <tbody>\n",
       "    <tr>\n",
       "      <th>0</th>\n",
       "      <td>654</td>\n",
       "      <td>35</td>\n",
       "      <td>Male</td>\n",
       "      <td>83380</td>\n",
       "      <td>Weekly</td>\n",
       "      <td>27.829142</td>\n",
       "      <td>Chinese</td>\n",
       "      <td>Breakfast</td>\n",
       "      <td>3</td>\n",
       "      <td>Business</td>\n",
       "      <td>Takeaway</td>\n",
       "      <td>False</td>\n",
       "      <td>True</td>\n",
       "      <td>True</td>\n",
       "      <td>43.523929</td>\n",
       "      <td>2</td>\n",
       "      <td>5</td>\n",
       "      <td>4</td>\n",
       "      <td>False</td>\n",
       "    </tr>\n",
       "    <tr>\n",
       "      <th>1</th>\n",
       "      <td>655</td>\n",
       "      <td>19</td>\n",
       "      <td>Male</td>\n",
       "      <td>43623</td>\n",
       "      <td>Rarely</td>\n",
       "      <td>115.408622</td>\n",
       "      <td>American</td>\n",
       "      <td>Dinner</td>\n",
       "      <td>1</td>\n",
       "      <td>Casual</td>\n",
       "      <td>Dine-in</td>\n",
       "      <td>False</td>\n",
       "      <td>False</td>\n",
       "      <td>False</td>\n",
       "      <td>57.524294</td>\n",
       "      <td>5</td>\n",
       "      <td>5</td>\n",
       "      <td>3</td>\n",
       "      <td>False</td>\n",
       "    </tr>\n",
       "    <tr>\n",
       "      <th>2</th>\n",
       "      <td>656</td>\n",
       "      <td>41</td>\n",
       "      <td>Female</td>\n",
       "      <td>83737</td>\n",
       "      <td>Weekly</td>\n",
       "      <td>106.693771</td>\n",
       "      <td>American</td>\n",
       "      <td>Dinner</td>\n",
       "      <td>6</td>\n",
       "      <td>Celebration</td>\n",
       "      <td>Dine-in</td>\n",
       "      <td>False</td>\n",
       "      <td>True</td>\n",
       "      <td>False</td>\n",
       "      <td>48.682623</td>\n",
       "      <td>3</td>\n",
       "      <td>4</td>\n",
       "      <td>5</td>\n",
       "      <td>False</td>\n",
       "    </tr>\n",
       "    <tr>\n",
       "      <th>3</th>\n",
       "      <td>657</td>\n",
       "      <td>43</td>\n",
       "      <td>Male</td>\n",
       "      <td>96768</td>\n",
       "      <td>Rarely</td>\n",
       "      <td>43.508508</td>\n",
       "      <td>Indian</td>\n",
       "      <td>Lunch</td>\n",
       "      <td>1</td>\n",
       "      <td>Celebration</td>\n",
       "      <td>Dine-in</td>\n",
       "      <td>False</td>\n",
       "      <td>False</td>\n",
       "      <td>False</td>\n",
       "      <td>7.552993</td>\n",
       "      <td>4</td>\n",
       "      <td>5</td>\n",
       "      <td>1</td>\n",
       "      <td>False</td>\n",
       "    </tr>\n",
       "    <tr>\n",
       "      <th>4</th>\n",
       "      <td>658</td>\n",
       "      <td>55</td>\n",
       "      <td>Female</td>\n",
       "      <td>67937</td>\n",
       "      <td>Monthly</td>\n",
       "      <td>148.084627</td>\n",
       "      <td>Chinese</td>\n",
       "      <td>Breakfast</td>\n",
       "      <td>1</td>\n",
       "      <td>Business</td>\n",
       "      <td>Takeaway</td>\n",
       "      <td>False</td>\n",
       "      <td>False</td>\n",
       "      <td>True</td>\n",
       "      <td>37.789041</td>\n",
       "      <td>2</td>\n",
       "      <td>3</td>\n",
       "      <td>5</td>\n",
       "      <td>False</td>\n",
       "    </tr>\n",
       "  </tbody>\n",
       "</table>\n",
       "</div>"
      ],
      "text/plain": [
       "   customer_id  age  gender  income visit_frequency  average_spend  \\\n",
       "0          654   35    Male   83380          Weekly      27.829142   \n",
       "1          655   19    Male   43623          Rarely     115.408622   \n",
       "2          656   41  Female   83737          Weekly     106.693771   \n",
       "3          657   43    Male   96768          Rarely      43.508508   \n",
       "4          658   55  Female   67937         Monthly     148.084627   \n",
       "\n",
       "  preferred_cuisine time_of_visit  group_size dining_occasion meal_type  \\\n",
       "0           Chinese     Breakfast           3        Business  Takeaway   \n",
       "1          American        Dinner           1          Casual   Dine-in   \n",
       "2          American        Dinner           6     Celebration   Dine-in   \n",
       "3            Indian         Lunch           1     Celebration   Dine-in   \n",
       "4           Chinese     Breakfast           1        Business  Takeaway   \n",
       "\n",
       "   online_reservation  delivery_order  loyalty_program_member  wait_time  \\\n",
       "0               False            True                    True  43.523929   \n",
       "1               False           False                   False  57.524294   \n",
       "2               False            True                   False  48.682623   \n",
       "3               False           False                   False   7.552993   \n",
       "4               False           False                    True  37.789041   \n",
       "\n",
       "   service_rating  food_rating  ambiance_rating  high_satisfaction  \n",
       "0               2            5                4              False  \n",
       "1               5            5                3              False  \n",
       "2               3            4                5              False  \n",
       "3               4            5                1              False  \n",
       "4               2            3                5              False  "
      ]
     },
     "execution_count": 37,
     "metadata": {},
     "output_type": "execute_result"
    }
   ],
   "source": [
    "# Creating Expectation suite\n",
    "expectation_suite_name = 'expectation-restaurant-dataset'\n",
    "context.add_or_update_expectation_suite(expectation_suite_name)\n",
    "\n",
    "# Creating validator\n",
    "validator = context.get_validator(\n",
    "    batch_request = batch_request,\n",
    "    expectation_suite_name = expectation_suite_name\n",
    ")\n",
    "\n",
    "# Displaying Validator\n",
    "validator.head()"
   ]
  },
  {
   "cell_type": "markdown",
   "metadata": {},
   "source": [
    "## **Expectations**"
   ]
  },
  {
   "cell_type": "markdown",
   "metadata": {},
   "source": [
    "Ekspektasi adalah pernyataan yang dapat diverifikasi tentang source data, mirip dengan pernyataan dalam pengujian unit Python tradisional. Ini menawarkan bahasa yang fleksibel dan deklaratif untuk menggambarkan perilaku data yang diantisipasi. Pada dasarnya, Ekspektasi menguraikan apa yang kita antisipasi dari data, yang berfungsi sebagai tolok ukur untuk memvalidasi data aktual"
   ]
  },
  {
   "cell_type": "markdown",
   "metadata": {},
   "source": [
    "### **Expectation 1: Column To be Unique**"
   ]
  },
  {
   "cell_type": "markdown",
   "metadata": {},
   "source": [
    "Code ini digunakan untuk memastikan bahwa setiap nilai di kolom 'customer_id' adalah unik. Kita menggunakannya dalam proyek untuk menjaga integritas dan konsistensi data, karena memiliki nilai yang tidak unik di kolom ini dapat menyebabkan kesalahan atau inkonsistensi dalam proses hilir yang mengandalkan 'customer_id' sebagai pengidentifikasi unik."
   ]
  },
  {
   "cell_type": "code",
   "execution_count": 38,
   "metadata": {},
   "outputs": [
    {
     "data": {
      "application/vnd.jupyter.widget-view+json": {
       "model_id": "d650c1c68902429e979802b2de1c1714",
       "version_major": 2,
       "version_minor": 0
      },
      "text/plain": [
       "Calculating Metrics:   0%|          | 0/8 [00:00<?, ?it/s]"
      ]
     },
     "metadata": {},
     "output_type": "display_data"
    },
    {
     "data": {
      "text/plain": [
       "{\n",
       "  \"exception_info\": {\n",
       "    \"raised_exception\": false,\n",
       "    \"exception_traceback\": null,\n",
       "    \"exception_message\": null\n",
       "  },\n",
       "  \"success\": true,\n",
       "  \"meta\": {},\n",
       "  \"result\": {\n",
       "    \"element_count\": 1500,\n",
       "    \"unexpected_count\": 0,\n",
       "    \"unexpected_percent\": 0.0,\n",
       "    \"partial_unexpected_list\": [],\n",
       "    \"missing_count\": 0,\n",
       "    \"missing_percent\": 0.0,\n",
       "    \"unexpected_percent_total\": 0.0,\n",
       "    \"unexpected_percent_nonmissing\": 0.0\n",
       "  }\n",
       "}"
      ]
     },
     "execution_count": 38,
     "metadata": {},
     "output_type": "execute_result"
    }
   ],
   "source": [
    "# Expectation 1 : Column `customer_id` must be unique as it is our primary key and an identifier for each unique orders\n",
    "\n",
    "validator.expect_column_values_to_be_unique(\"customer_id\")\n"
   ]
  },
  {
   "cell_type": "markdown",
   "metadata": {},
   "source": [
    "### **Expectation 2: Column Values to be Between**"
   ]
  },
  {
   "cell_type": "markdown",
   "metadata": {},
   "source": [
    "Code ini menggunakan metode `expect_column_values_to_be_between` dari library Great Expectations untuk memvalidasi apakah semua nilai di kolom `age` berada dalam rentang yang ditentukan. Dalam hal ini, rentang ditentukan oleh nilai minimum 18 dan nilai maksimum 80."
   ]
  },
  {
   "cell_type": "code",
   "execution_count": 39,
   "metadata": {},
   "outputs": [
    {
     "data": {
      "application/vnd.jupyter.widget-view+json": {
       "model_id": "2981f191e9324c64b8a6ed4f95cc1dfe",
       "version_major": 2,
       "version_minor": 0
      },
      "text/plain": [
       "Calculating Metrics:   0%|          | 0/8 [00:00<?, ?it/s]"
      ]
     },
     "metadata": {},
     "output_type": "display_data"
    },
    {
     "data": {
      "text/plain": [
       "{\n",
       "  \"exception_info\": {\n",
       "    \"raised_exception\": false,\n",
       "    \"exception_traceback\": null,\n",
       "    \"exception_message\": null\n",
       "  },\n",
       "  \"success\": true,\n",
       "  \"meta\": {},\n",
       "  \"result\": {\n",
       "    \"element_count\": 1500,\n",
       "    \"unexpected_count\": 0,\n",
       "    \"unexpected_percent\": 0.0,\n",
       "    \"partial_unexpected_list\": [],\n",
       "    \"missing_count\": 0,\n",
       "    \"missing_percent\": 0.0,\n",
       "    \"unexpected_percent_total\": 0.0,\n",
       "    \"unexpected_percent_nonmissing\": 0.0\n",
       "  }\n",
       "}"
      ]
     },
     "execution_count": 39,
     "metadata": {},
     "output_type": "execute_result"
    }
   ],
   "source": [
    "#Expectation 2: Column 'age' to be between 18 and 80\n",
    "\n",
    "validator.expect_column_values_to_be_between(\"age\", 18, 80)"
   ]
  },
  {
   "cell_type": "markdown",
   "metadata": {},
   "source": [
    "### **Expectation 3: Column Values to Be in Set**"
   ]
  },
  {
   "cell_type": "markdown",
   "metadata": {},
   "source": [
    "Code ini menggunakan metode `expect_column_values_to_be_in_set` dari library Great Expectations untuk memvalidasi apakah semua nilai di kolom `gender` termasuk dalam kumpulan nilai yang telah ditentukan sebelumnya. Dalam hal ini, rangkaian nilai yang diharapkan mencakup 'Male' dan 'Female'."
   ]
  },
  {
   "cell_type": "code",
   "execution_count": 40,
   "metadata": {},
   "outputs": [
    {
     "data": {
      "application/vnd.jupyter.widget-view+json": {
       "model_id": "c2b1ef904ba1451b83f017569126a2c1",
       "version_major": 2,
       "version_minor": 0
      },
      "text/plain": [
       "Calculating Metrics:   0%|          | 0/8 [00:00<?, ?it/s]"
      ]
     },
     "metadata": {},
     "output_type": "display_data"
    },
    {
     "data": {
      "text/plain": [
       "{\n",
       "  \"exception_info\": {\n",
       "    \"raised_exception\": false,\n",
       "    \"exception_traceback\": null,\n",
       "    \"exception_message\": null\n",
       "  },\n",
       "  \"success\": true,\n",
       "  \"meta\": {},\n",
       "  \"result\": {\n",
       "    \"element_count\": 1500,\n",
       "    \"unexpected_count\": 0,\n",
       "    \"unexpected_percent\": 0.0,\n",
       "    \"partial_unexpected_list\": [],\n",
       "    \"missing_count\": 0,\n",
       "    \"missing_percent\": 0.0,\n",
       "    \"unexpected_percent_total\": 0.0,\n",
       "    \"unexpected_percent_nonmissing\": 0.0\n",
       "  }\n",
       "}"
      ]
     },
     "execution_count": 40,
     "metadata": {},
     "output_type": "execute_result"
    }
   ],
   "source": [
    "# Expectation 3: Column 'gender' to be in set ['Male', 'Female']\n",
    "\n",
    "validator.expect_column_values_to_be_in_set(\"gender\", [\"Male\", \"Female\"])\n"
   ]
  },
  {
   "cell_type": "markdown",
   "metadata": {},
   "source": [
    "### **Expectation 4: Column Values to be of Type**"
   ]
  },
  {
   "cell_type": "markdown",
   "metadata": {},
   "source": [
    "Code ini menggunakan metode `expect_column_values_to_be_in_type_list` dari library Great Expectations untuk memvalidasi apakah semua nilai di kolom 'income' termasuk dalam tipe data tertentu. Dalam hal ini, tipe data yang diharapkan adalah 'int64' dan 'float64'."
   ]
  },
  {
   "cell_type": "code",
   "execution_count": 41,
   "metadata": {},
   "outputs": [
    {
     "data": {
      "application/vnd.jupyter.widget-view+json": {
       "model_id": "4a9688a7e5b3449a8544eef77c2e092c",
       "version_major": 2,
       "version_minor": 0
      },
      "text/plain": [
       "Calculating Metrics:   0%|          | 0/1 [00:00<?, ?it/s]"
      ]
     },
     "metadata": {},
     "output_type": "display_data"
    },
    {
     "data": {
      "text/plain": [
       "{\n",
       "  \"exception_info\": {\n",
       "    \"raised_exception\": false,\n",
       "    \"exception_traceback\": null,\n",
       "    \"exception_message\": null\n",
       "  },\n",
       "  \"success\": true,\n",
       "  \"meta\": {},\n",
       "  \"result\": {\n",
       "    \"observed_value\": \"int64\"\n",
       "  }\n",
       "}"
      ]
     },
     "execution_count": 41,
     "metadata": {},
     "output_type": "execute_result"
    }
   ],
   "source": [
    "# Expectation 4: Column 'income' to be in type list ['int64', 'float64']\n",
    "\n",
    "validator.expect_column_values_to_be_in_type_list(\"income\", [\"int64\", \"float64\"])"
   ]
  },
  {
   "cell_type": "markdown",
   "metadata": {},
   "source": [
    "### **Expectation 5: Column Values to be of Match Regex**"
   ]
  },
  {
   "cell_type": "code",
   "execution_count": 42,
   "metadata": {},
   "outputs": [
    {
     "data": {
      "application/vnd.jupyter.widget-view+json": {
       "model_id": "4d99244cb63b40ad8507a5d31bb2415d",
       "version_major": 2,
       "version_minor": 0
      },
      "text/plain": [
       "Calculating Metrics:   0%|          | 0/8 [00:00<?, ?it/s]"
      ]
     },
     "metadata": {},
     "output_type": "display_data"
    },
    {
     "data": {
      "text/plain": [
       "{\n",
       "  \"exception_info\": {\n",
       "    \"raised_exception\": false,\n",
       "    \"exception_traceback\": null,\n",
       "    \"exception_message\": null\n",
       "  },\n",
       "  \"success\": true,\n",
       "  \"meta\": {},\n",
       "  \"result\": {\n",
       "    \"element_count\": 1500,\n",
       "    \"unexpected_count\": 0,\n",
       "    \"unexpected_percent\": 0.0,\n",
       "    \"partial_unexpected_list\": [],\n",
       "    \"missing_count\": 0,\n",
       "    \"missing_percent\": 0.0,\n",
       "    \"unexpected_percent_total\": 0.0,\n",
       "    \"unexpected_percent_nonmissing\": 0.0\n",
       "  }\n",
       "}"
      ]
     },
     "execution_count": 42,
     "metadata": {},
     "output_type": "execute_result"
    }
   ],
   "source": [
    "# Expectation 5: Column 'visit_frequency' to match regex '^(Daily|Weekly|Monthly|Rarely)$'\n",
    "\n",
    "validator.expect_column_values_to_match_regex(\"visit_frequency\", \"^(Daily|Weekly|Monthly|Rarely)$\")\n"
   ]
  },
  {
   "cell_type": "markdown",
   "metadata": {},
   "source": [
    "### **Expectation 6: Column Values to be of Not Match Regex List**"
   ]
  },
  {
   "cell_type": "code",
   "execution_count": 43,
   "metadata": {},
   "outputs": [
    {
     "data": {
      "application/vnd.jupyter.widget-view+json": {
       "model_id": "6d4ec91a61b746e192d2581ab08d4dde",
       "version_major": 2,
       "version_minor": 0
      },
      "text/plain": [
       "Calculating Metrics:   0%|          | 0/8 [00:00<?, ?it/s]"
      ]
     },
     "metadata": {},
     "output_type": "display_data"
    },
    {
     "data": {
      "text/plain": [
       "{\n",
       "  \"exception_info\": {\n",
       "    \"raised_exception\": false,\n",
       "    \"exception_traceback\": null,\n",
       "    \"exception_message\": null\n",
       "  },\n",
       "  \"success\": true,\n",
       "  \"meta\": {},\n",
       "  \"result\": {\n",
       "    \"element_count\": 1500,\n",
       "    \"unexpected_count\": 0,\n",
       "    \"unexpected_percent\": 0.0,\n",
       "    \"partial_unexpected_list\": [],\n",
       "    \"missing_count\": 0,\n",
       "    \"missing_percent\": 0.0,\n",
       "    \"unexpected_percent_total\": 0.0,\n",
       "    \"unexpected_percent_nonmissing\": 0.0\n",
       "  }\n",
       "}"
      ]
     },
     "execution_count": 43,
     "metadata": {},
     "output_type": "execute_result"
    }
   ],
   "source": [
    "# Expectation 6: Column 'preferredcuisine' values to not match regex list ['[^a-zA-Z]']\n",
    "\n",
    "validator.expect_column_values_to_not_match_regex_list(\"preferred_cuisine\", regex_list=['[^a-zA-Z]'])\n"
   ]
  },
  {
   "cell_type": "markdown",
   "metadata": {},
   "source": [
    "### **Expectation 7: Column Median to be of Between**"
   ]
  },
  {
   "cell_type": "code",
   "execution_count": 45,
   "metadata": {},
   "outputs": [
    {
     "data": {
      "application/vnd.jupyter.widget-view+json": {
       "model_id": "c61a72d29a0b4329b955c71661e1dbc9",
       "version_major": 2,
       "version_minor": 0
      },
      "text/plain": [
       "Calculating Metrics:   0%|          | 0/4 [00:00<?, ?it/s]"
      ]
     },
     "metadata": {},
     "output_type": "display_data"
    },
    {
     "data": {
      "text/plain": [
       "{\n",
       "  \"exception_info\": {\n",
       "    \"raised_exception\": false,\n",
       "    \"exception_traceback\": null,\n",
       "    \"exception_message\": null\n",
       "  },\n",
       "  \"success\": true,\n",
       "  \"meta\": {},\n",
       "  \"result\": {\n",
       "    \"observed_value\": 104.62640814349791\n",
       "  }\n",
       "}"
      ]
     },
     "execution_count": 45,
     "metadata": {},
     "output_type": "execute_result"
    }
   ],
   "source": [
    "# Cell 6: Expectation 6: Column 'average_spend' median to be between 20 and 150\n",
    "\n",
    "validator.expect_column_median_to_be_between(\"average_spend\", 20, 150)"
   ]
  },
  {
   "cell_type": "markdown",
   "metadata": {},
   "source": [
    "## **Save Expectation**"
   ]
  },
  {
   "cell_type": "code",
   "execution_count": 46,
   "metadata": {},
   "outputs": [],
   "source": [
    "# Save the expectation suite\n",
    "validator.save_expectation_suite(discard_failed_expectations=False)"
   ]
  },
  {
   "cell_type": "markdown",
   "metadata": {},
   "source": [
    "## **Checkpoint**"
   ]
  },
  {
   "cell_type": "code",
   "execution_count": 47,
   "metadata": {},
   "outputs": [],
   "source": [
    "# Create a checkpoint\n",
    "\n",
    "checkpoint_1 = context.add_or_update_checkpoint(\n",
    "    name = 'checkpoint_1',\n",
    "    validator = validator,\n",
    ")"
   ]
  },
  {
   "cell_type": "code",
   "execution_count": 48,
   "metadata": {},
   "outputs": [
    {
     "data": {
      "application/vnd.jupyter.widget-view+json": {
       "model_id": "913ccee4fb964a8db694a4341201f7e4",
       "version_major": 2,
       "version_minor": 0
      },
      "text/plain": [
       "Calculating Metrics:   0%|          | 0/39 [00:00<?, ?it/s]"
      ]
     },
     "metadata": {},
     "output_type": "display_data"
    }
   ],
   "source": [
    "# Run the checkpoint\n",
    "checkpoint_result = checkpoint_1.run()\n"
   ]
  },
  {
   "cell_type": "markdown",
   "metadata": {},
   "source": [
    "## **Data Docs**"
   ]
  },
  {
   "cell_type": "code",
   "execution_count": 49,
   "metadata": {},
   "outputs": [
    {
     "name": "stdout",
     "output_type": "stream",
     "text": [
      "Expectations results:\n",
      "{\n",
      "  \"run_id\": {\n",
      "    \"run_name\": null,\n",
      "    \"run_time\": \"2024-07-22T17:58:35.443957+07:00\"\n",
      "  },\n",
      "  \"run_results\": {\n",
      "    \"ValidationResultIdentifier::expectation-restaurant-dataset/__none__/20240722T105835.443957Z/csv-restaurant-iznia-Milestone3-Iznia\": {\n",
      "      \"validation_result\": {\n",
      "        \"success\": true,\n",
      "        \"meta\": {\n",
      "          \"great_expectations_version\": \"0.18.19\",\n",
      "          \"expectation_suite_name\": \"expectation-restaurant-dataset\",\n",
      "          \"run_id\": {\n",
      "            \"run_name\": null,\n",
      "            \"run_time\": \"2024-07-22T17:58:35.443957+07:00\"\n",
      "          },\n",
      "          \"batch_spec\": {\n",
      "            \"reader_method\": \"read_csv\",\n",
      "            \"reader_options\": {\n",
      "              \"filepath_or_buffer\": \"P2M3_Iznia_Azyati_data_cleaned.csv\"\n",
      "            }\n",
      "          },\n",
      "          \"batch_markers\": {\n",
      "            \"ge_load_time\": \"20240722T105835.475207Z\",\n",
      "            \"pandas_data_fingerprint\": \"1db49c707252f35801c32ce3e35746c0\"\n",
      "          },\n",
      "          \"active_batch_definition\": {\n",
      "            \"datasource_name\": \"csv-restaurant-iznia\",\n",
      "            \"data_connector_name\": \"fluent\",\n",
      "            \"data_asset_name\": \"Milestone3-Iznia\",\n",
      "            \"batch_identifiers\": {}\n",
      "          },\n",
      "          \"validation_time\": \"20240722T105835.491218Z\",\n",
      "          \"checkpoint_name\": \"checkpoint_1\",\n",
      "          \"validation_id\": null,\n",
      "          \"checkpoint_id\": null\n",
      "        },\n",
      "        \"evaluation_parameters\": {},\n",
      "        \"results\": [\n",
      "          {\n",
      "            \"expectation_config\": {\n",
      "              \"meta\": {},\n",
      "              \"expectation_type\": \"expect_column_values_to_be_unique\",\n",
      "              \"kwargs\": {\n",
      "                \"column\": \"customer_id\",\n",
      "                \"batch_id\": \"csv-restaurant-iznia-Milestone3-Iznia\"\n",
      "              }\n",
      "            },\n",
      "            \"exception_info\": {\n",
      "              \"raised_exception\": false,\n",
      "              \"exception_traceback\": null,\n",
      "              \"exception_message\": null\n",
      "            },\n",
      "            \"success\": true,\n",
      "            \"meta\": {},\n",
      "            \"result\": {\n",
      "              \"element_count\": 1500,\n",
      "              \"unexpected_count\": 0,\n",
      "              \"unexpected_percent\": 0.0,\n",
      "              \"partial_unexpected_list\": [],\n",
      "              \"missing_count\": 0,\n",
      "              \"missing_percent\": 0.0,\n",
      "              \"unexpected_percent_total\": 0.0,\n",
      "              \"unexpected_percent_nonmissing\": 0.0,\n",
      "              \"partial_unexpected_counts\": [],\n",
      "              \"partial_unexpected_index_list\": []\n",
      "            }\n",
      "          },\n",
      "          {\n",
      "            \"expectation_config\": {\n",
      "              \"meta\": {},\n",
      "              \"expectation_type\": \"expect_column_values_to_be_between\",\n",
      "              \"kwargs\": {\n",
      "                \"column\": \"age\",\n",
      "                \"max_value\": 80,\n",
      "                \"min_value\": 18,\n",
      "                \"batch_id\": \"csv-restaurant-iznia-Milestone3-Iznia\"\n",
      "              }\n",
      "            },\n",
      "            \"exception_info\": {\n",
      "              \"raised_exception\": false,\n",
      "              \"exception_traceback\": null,\n",
      "              \"exception_message\": null\n",
      "            },\n",
      "            \"success\": true,\n",
      "            \"meta\": {},\n",
      "            \"result\": {\n",
      "              \"element_count\": 1500,\n",
      "              \"unexpected_count\": 0,\n",
      "              \"unexpected_percent\": 0.0,\n",
      "              \"partial_unexpected_list\": [],\n",
      "              \"missing_count\": 0,\n",
      "              \"missing_percent\": 0.0,\n",
      "              \"unexpected_percent_total\": 0.0,\n",
      "              \"unexpected_percent_nonmissing\": 0.0,\n",
      "              \"partial_unexpected_counts\": [],\n",
      "              \"partial_unexpected_index_list\": []\n",
      "            }\n",
      "          },\n",
      "          {\n",
      "            \"expectation_config\": {\n",
      "              \"meta\": {},\n",
      "              \"expectation_type\": \"expect_column_values_to_be_in_set\",\n",
      "              \"kwargs\": {\n",
      "                \"column\": \"gender\",\n",
      "                \"value_set\": [\n",
      "                  \"Male\",\n",
      "                  \"Female\"\n",
      "                ],\n",
      "                \"batch_id\": \"csv-restaurant-iznia-Milestone3-Iznia\"\n",
      "              }\n",
      "            },\n",
      "            \"exception_info\": {\n",
      "              \"raised_exception\": false,\n",
      "              \"exception_traceback\": null,\n",
      "              \"exception_message\": null\n",
      "            },\n",
      "            \"success\": true,\n",
      "            \"meta\": {},\n",
      "            \"result\": {\n",
      "              \"element_count\": 1500,\n",
      "              \"unexpected_count\": 0,\n",
      "              \"unexpected_percent\": 0.0,\n",
      "              \"partial_unexpected_list\": [],\n",
      "              \"missing_count\": 0,\n",
      "              \"missing_percent\": 0.0,\n",
      "              \"unexpected_percent_total\": 0.0,\n",
      "              \"unexpected_percent_nonmissing\": 0.0,\n",
      "              \"partial_unexpected_counts\": [],\n",
      "              \"partial_unexpected_index_list\": []\n",
      "            }\n",
      "          },\n",
      "          {\n",
      "            \"expectation_config\": {\n",
      "              \"meta\": {},\n",
      "              \"expectation_type\": \"expect_column_values_to_be_in_type_list\",\n",
      "              \"kwargs\": {\n",
      "                \"column\": \"income\",\n",
      "                \"type_list\": [\n",
      "                  \"int64\",\n",
      "                  \"float64\"\n",
      "                ],\n",
      "                \"batch_id\": \"csv-restaurant-iznia-Milestone3-Iznia\"\n",
      "              }\n",
      "            },\n",
      "            \"exception_info\": {\n",
      "              \"raised_exception\": false,\n",
      "              \"exception_traceback\": null,\n",
      "              \"exception_message\": null\n",
      "            },\n",
      "            \"success\": true,\n",
      "            \"meta\": {},\n",
      "            \"result\": {\n",
      "              \"observed_value\": \"int64\"\n",
      "            }\n",
      "          },\n",
      "          {\n",
      "            \"expectation_config\": {\n",
      "              \"meta\": {},\n",
      "              \"expectation_type\": \"expect_column_values_to_match_regex\",\n",
      "              \"kwargs\": {\n",
      "                \"column\": \"visit_frequency\",\n",
      "                \"regex\": \"^(Daily|Weekly|Monthly|Rarely)$\",\n",
      "                \"batch_id\": \"csv-restaurant-iznia-Milestone3-Iznia\"\n",
      "              }\n",
      "            },\n",
      "            \"exception_info\": {\n",
      "              \"raised_exception\": false,\n",
      "              \"exception_traceback\": null,\n",
      "              \"exception_message\": null\n",
      "            },\n",
      "            \"success\": true,\n",
      "            \"meta\": {},\n",
      "            \"result\": {\n",
      "              \"element_count\": 1500,\n",
      "              \"unexpected_count\": 0,\n",
      "              \"unexpected_percent\": 0.0,\n",
      "              \"partial_unexpected_list\": [],\n",
      "              \"missing_count\": 0,\n",
      "              \"missing_percent\": 0.0,\n",
      "              \"unexpected_percent_total\": 0.0,\n",
      "              \"unexpected_percent_nonmissing\": 0.0,\n",
      "              \"partial_unexpected_counts\": [],\n",
      "              \"partial_unexpected_index_list\": []\n",
      "            }\n",
      "          },\n",
      "          {\n",
      "            \"expectation_config\": {\n",
      "              \"meta\": {},\n",
      "              \"expectation_type\": \"expect_column_values_to_not_match_regex_list\",\n",
      "              \"kwargs\": {\n",
      "                \"column\": \"preferred_cuisine\",\n",
      "                \"regex_list\": [\n",
      "                  \"[^a-zA-Z]\"\n",
      "                ],\n",
      "                \"batch_id\": \"csv-restaurant-iznia-Milestone3-Iznia\"\n",
      "              }\n",
      "            },\n",
      "            \"exception_info\": {\n",
      "              \"raised_exception\": false,\n",
      "              \"exception_traceback\": null,\n",
      "              \"exception_message\": null\n",
      "            },\n",
      "            \"success\": true,\n",
      "            \"meta\": {},\n",
      "            \"result\": {\n",
      "              \"element_count\": 1500,\n",
      "              \"unexpected_count\": 0,\n",
      "              \"unexpected_percent\": 0.0,\n",
      "              \"partial_unexpected_list\": [],\n",
      "              \"missing_count\": 0,\n",
      "              \"missing_percent\": 0.0,\n",
      "              \"unexpected_percent_total\": 0.0,\n",
      "              \"unexpected_percent_nonmissing\": 0.0,\n",
      "              \"partial_unexpected_counts\": [],\n",
      "              \"partial_unexpected_index_list\": []\n",
      "            }\n",
      "          },\n",
      "          {\n",
      "            \"expectation_config\": {\n",
      "              \"meta\": {},\n",
      "              \"expectation_type\": \"expect_column_median_to_be_between\",\n",
      "              \"kwargs\": {\n",
      "                \"column\": \"average_spend\",\n",
      "                \"max_value\": 150,\n",
      "                \"min_value\": 20,\n",
      "                \"batch_id\": \"csv-restaurant-iznia-Milestone3-Iznia\"\n",
      "              }\n",
      "            },\n",
      "            \"exception_info\": {\n",
      "              \"raised_exception\": false,\n",
      "              \"exception_traceback\": null,\n",
      "              \"exception_message\": null\n",
      "            },\n",
      "            \"success\": true,\n",
      "            \"meta\": {},\n",
      "            \"result\": {\n",
      "              \"observed_value\": 104.62640814349791\n",
      "            }\n",
      "          }\n",
      "        ],\n",
      "        \"statistics\": {\n",
      "          \"evaluated_expectations\": 7,\n",
      "          \"successful_expectations\": 7,\n",
      "          \"unsuccessful_expectations\": 0,\n",
      "          \"success_percent\": 100.0\n",
      "        }\n",
      "      },\n",
      "      \"actions_results\": {\n",
      "        \"store_validation_result\": {\n",
      "          \"class\": \"StoreValidationResultAction\"\n",
      "        },\n",
      "        \"store_evaluation_params\": {\n",
      "          \"class\": \"StoreEvaluationParametersAction\"\n",
      "        },\n",
      "        \"update_data_docs\": {\n",
      "          \"local_site\": \"file://d:\\\\.Hacktiv8\\\\Bahan Materi\\\\Phase 2\\\\Milestone 3\\\\p2-ftds032-rmt-ml3-Iznia\\\\gx\\\\uncommitted/data_docs/local_site/validations%5Cexpectation-restaurant-dataset%5C__none__%5C20240722T105835.443957Z%5Ccsv-restaurant-iznia-Milestone3-Iznia.html\",\n",
      "          \"class\": \"UpdateDataDocsAction\"\n",
      "        }\n",
      "      }\n",
      "    }\n",
      "  },\n",
      "  \"checkpoint_config\": {\n",
      "    \"default_validation_id\": null,\n",
      "    \"expectation_suite_ge_cloud_id\": null,\n",
      "    \"validations\": [\n",
      "      {\n",
      "        \"expectation_suite_name\": \"expectation-restaurant-dataset\",\n",
      "        \"id\": null,\n",
      "        \"expectation_suite_ge_cloud_id\": null,\n",
      "        \"batch_request\": {\n",
      "          \"datasource_name\": \"csv-restaurant-iznia\",\n",
      "          \"data_asset_name\": \"Milestone3-Iznia\",\n",
      "          \"options\": {},\n",
      "          \"batch_slice\": null\n",
      "        },\n",
      "        \"name\": null\n",
      "      }\n",
      "    ],\n",
      "    \"action_list\": [\n",
      "      {\n",
      "        \"name\": \"store_validation_result\",\n",
      "        \"action\": {\n",
      "          \"class_name\": \"StoreValidationResultAction\"\n",
      "        }\n",
      "      },\n",
      "      {\n",
      "        \"name\": \"store_evaluation_params\",\n",
      "        \"action\": {\n",
      "          \"class_name\": \"StoreEvaluationParametersAction\"\n",
      "        }\n",
      "      },\n",
      "      {\n",
      "        \"name\": \"update_data_docs\",\n",
      "        \"action\": {\n",
      "          \"class_name\": \"UpdateDataDocsAction\"\n",
      "        }\n",
      "      }\n",
      "    ],\n",
      "    \"slack_webhook\": null,\n",
      "    \"template_name\": null,\n",
      "    \"notify_on\": null,\n",
      "    \"runtime_configuration\": {},\n",
      "    \"config_version\": 1.0,\n",
      "    \"name\": \"checkpoint_1\",\n",
      "    \"notify_with\": null,\n",
      "    \"run_name_template\": null,\n",
      "    \"site_names\": null,\n",
      "    \"class_name\": \"Checkpoint\",\n",
      "    \"evaluation_parameters\": {},\n",
      "    \"ge_cloud_id\": null,\n",
      "    \"expectation_suite_name\": null,\n",
      "    \"batch_request\": {},\n",
      "    \"profilers\": [],\n",
      "    \"module_name\": \"great_expectations.checkpoint\"\n",
      "  },\n",
      "  \"success\": true\n",
      "}\n"
     ]
    }
   ],
   "source": [
    "# Build data docs\n",
    "context.build_data_docs()\n",
    "\n",
    "# Save and display the results\n",
    "print(\"Expectations results:\")\n",
    "print(checkpoint_result)"
   ]
  },
  {
   "cell_type": "markdown",
   "metadata": {},
   "source": [
    "## **Conclusion**"
   ]
  },
  {
   "cell_type": "markdown",
   "metadata": {},
   "source": [
    "Berdasarkan validasi yang dilakukan menggunakan library Great Expectations, setiap aspek dari data memenuhi ekspektasi dan dianggap **benar**.\n",
    "\n",
    "- Kolom `customer_id` berisi nilai-nilai unik, memastikan integritas dan keunikan data.\n",
    "- Nilai kolom `age` berada dalam rentang yang diharapkan yaitu antara 18 hingga 80.\n",
    "- Kolom `gender` berisi nilai-nilai yang secara eksklusif berasal dari set ['Male', 'Female'] seperti yang diharapkan.\n",
    "- Nilai kolom `income` adalah dari tipe data int dan float, memastikan konsistensi tipe data.\n",
    "- Nilai kolom `visit_frequency` sesuai dengan pola regex yang ditentukan '^(Daily|Weekly|Monthly|Rarely)$', menjaga konsistensi dalam representasi frekuensi.\n",
    "- Nilai kolom `preferred_cuisine` tidak sesuai dengan daftar regex yang ditentukan ['[^a-zA-Z]'], memastikan format teks yang tepat.\n",
    "- Nilai `median kolom average_spend` berada dalam rentang yang diharapkan yaitu antara 20 hingga 150.\n",
    "\n",
    "Secara keseluruhan, validasi ini menkonfirmasi bahwa data memenuhi standar kualitas dan dapat digunakan untuk analisis atau proses lebih lanjut. "
   ]
  }
 ],
 "metadata": {
  "kernelspec": {
   "display_name": "iznia3.9",
   "language": "python",
   "name": "python3"
  },
  "language_info": {
   "codemirror_mode": {
    "name": "ipython",
    "version": 3
   },
   "file_extension": ".py",
   "mimetype": "text/x-python",
   "name": "python",
   "nbconvert_exporter": "python",
   "pygments_lexer": "ipython3",
   "version": "3.9.19"
  }
 },
 "nbformat": 4,
 "nbformat_minor": 2
}
